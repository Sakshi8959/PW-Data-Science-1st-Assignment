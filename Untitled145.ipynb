{
 "cells": [
  {
   "cell_type": "code",
   "execution_count": 2,
   "id": "2ad9b6c2-a9b8-4243-a1fb-76c58b2152b4",
   "metadata": {},
   "outputs": [
    {
     "name": "stdout",
     "output_type": "stream",
     "text": [
      "1\n",
      "2\n",
      "3\n",
      "4\n",
      "5\n",
      "6\n",
      "7\n",
      "8\n",
      "9\n",
      "10\n",
      "1\n",
      "2\n",
      "3\n",
      "4\n",
      "5\n",
      "6\n",
      "7\n",
      "8\n",
      "9\n",
      "10\n"
     ]
    }
   ],
   "source": [
    "#Explain with an example each when to use a for loop and a while loop.\n",
    "'''For Loop\n",
    "When to Use:\n",
    "Use a for loop when you know in advance how many times you need to iterate. For loops are great for iterating over sequences like lists, tuples, dictionaries, or ranges.\n",
    "Example:\n",
    "Suppose you want to print the numbers from 1 to 10.\n",
    "Python\n",
    "Copy code'''\n",
    "for i in range(1, 11):\n",
    "    print(i)\n",
    "'''In this example, the for loop iterates over the range of numbers from 1 to 10, and print(i) outputs each number. You know in advance that the loop will run 10 times.\n",
    "\n",
    "While Loop\n",
    "When to Use:\n",
    "Use a while loop when the number of iterations is not known beforehand. Instead, the loop continues until a certain condition is met.\n",
    "\n",
    "Example:\n",
    "Suppose you want to print the numbers from 1 to 10, but this time using a while loop.\n",
    "\n",
    "python\n",
    "Copy code'''\n",
    "i = 1\n",
    "while i <= 10:\n",
    "    print(i)\n",
    "    i += 1\n",
    "#In this example, the while loop continues to run as long as i is less than or equal to 10. The loop variable i is incremented inside the loop. This is useful when the number of iterations depends on dynamic conditions that might change during execution."
   ]
  },
  {
   "cell_type": "code",
   "execution_count": 7,
   "id": "ab2c2bc7-02e5-488c-9d1a-741ad323bfa3",
   "metadata": {},
   "outputs": [
    {
     "name": "stdout",
     "output_type": "stream",
     "text": [
      "10\n",
      "3628800\n",
      "1\n",
      "2\n",
      "3\n",
      "4\n",
      "5\n",
      "6\n",
      "7\n",
      "8\n",
      "9\n",
      "10\n"
     ]
    }
   ],
   "source": [
    "#Q2. Write a python program to print the sum and product of the first 10 natural numbers using for\n",
    "#and while loop.\n",
    "sum=0\n",
    "prod =1\n",
    "for i in range(1,11):\n",
    "    sum=+i;\n",
    "print(sum)\n",
    "for i in range(1,11):\n",
    "    prod*=i;\n",
    "print(prod)"
   ]
  },
  {
   "cell_type": "code",
   "execution_count": null,
   "id": "e65772af-2890-4686-93ab-d9b1d704fac2",
   "metadata": {},
   "outputs": [],
   "source": [
    "'''Q3. Create a python program to compute the electricity bill for a household.\n",
    "The per-unit charges in rupees are as follows: For the first 100 units, the user will be charged Rs. 4.5 per\n",
    "unit, for the next 100 units, the user will be charged Rs. 6 per unit, and for the next 100 units, the user will\n",
    "be charged Rs. 10 per unit, After 300 units and above the user will be charged Rs. 20 per unit..'''def calculate_electricity_bill(units):\n",
    "    if units <= 100:\n",
    "        bill = units * 4.5\n",
    "    elif units <= 200:\n",
    "        bill = (100 * 4.5) + (units - 100) * 6\n",
    "    elif units <= 300:\n",
    "        bill = (100 * 4.5) + (100 * 6) + (units - 200) * 10\n",
    "    else:\n",
    "        bill = (100 * 4.5) + (100 * 6) + (100 * 10) + (units - 300) * 20\n",
    "    return bill\n",
    "\n",
    "# Example usage\n",
    "units_consumed = 350\n",
    "total_bill = calculate_electricity_bill(units_consumed)\n",
    "print(f\"The total electricity bill for {units_consumed} units is: Rs. {total_bill}\")\n"
   ]
  },
  {
   "cell_type": "code",
   "execution_count": 17,
   "id": "c4223870-b5d0-4e17-914b-a9fc66ddc55d",
   "metadata": {},
   "outputs": [
    {
     "name": "stdout",
     "output_type": "stream",
     "text": [
      "[8, 64, 125, 216, 512, 1000, 1728, 2744, 3375, 4096, 5832, 8000, 10648, 13824, 15625, 17576, 21952, 27000, 32768, 39304, 42875, 46656, 54872, 64000, 74088, 85184, 91125, 97336, 110592, 125000, 140608, 157464, 166375, 175616, 195112, 216000, 238328, 262144, 274625, 287496, 314432, 343000, 373248, 405224, 421875, 438976, 474552, 512000, 551368, 592704, 614125, 636056, 681472, 729000, 778688, 830584, 857375, 884736, 941192, 1000000]\n"
     ]
    }
   ],
   "source": [
    "'''Q4. Create a list of numbers from 1 to 100. Use for loop and while loop to calculate the cube of each\n",
    "number and if the cube of that number is divisible by 4 or 5 then append that number in a list and print\n",
    "that list.'''\n",
    "l = []\n",
    "for i in range(1, 101):\n",
    "    cube = i**3\n",
    "    if cube % 4 == 0 or cube % 5 == 0:\n",
    "        l.append(cube)\n",
    "\n",
    "print(l)\n"
   ]
  },
  {
   "cell_type": "code",
   "execution_count": 25,
   "id": "b7199121-1216-432a-b199-b7f5dd9ed09f",
   "metadata": {},
   "outputs": [
    {
     "name": "stdout",
     "output_type": "stream",
     "text": [
      "Count of vowel is : 12\n",
      "Count of vowels is: 12\n"
     ]
    }
   ],
   "source": [
    "'''Q5. Write a program to filter count vowels in the below-given string.\n",
    "string = \"I want to become a data scientist\"'''\n",
    "s = \"I want to become a data scientist\"\n",
    "count =0;\n",
    "for i in s:\n",
    "    if(i=='a' or i=='e' or i=='i' or i=='o' or i=='u' or i=='I'):\n",
    "        count+=1;\n",
    "print(\"Count of vowel is :\",count)\n",
    "s1 = \"I want to become a data scientist\"\n",
    "count = 0\n",
    "vowels = \"aeiouAEIOU\"\n",
    "\n",
    "for i in s1:\n",
    "    if i in vowels:\n",
    "        count += 1\n",
    "\n",
    "print(\"Count of vowels is:\", count)\n"
   ]
  },
  {
   "cell_type": "code",
   "execution_count": null,
   "id": "6dc3cc21-3976-49da-941d-4aa8caba400d",
   "metadata": {},
   "outputs": [],
   "source": []
  }
 ],
 "metadata": {
  "kernelspec": {
   "display_name": "Python 3 (ipykernel)",
   "language": "python",
   "name": "python3"
  },
  "language_info": {
   "codemirror_mode": {
    "name": "ipython",
    "version": 3
   },
   "file_extension": ".py",
   "mimetype": "text/x-python",
   "name": "python",
   "nbconvert_exporter": "python",
   "pygments_lexer": "ipython3",
   "version": "3.11.7"
  }
 },
 "nbformat": 4,
 "nbformat_minor": 5
}
